{
 "cells": [
  {
   "cell_type": "code",
   "execution_count": 25,
   "metadata": {},
   "outputs": [],
   "source": [
    "import threading\n",
    "import random\n",
    "import fontstyle"
   ]
  },
  {
   "cell_type": "code",
   "execution_count": 26,
   "metadata": {},
   "outputs": [],
   "source": [
    "entrace = 568/5\n",
    "time_trip = [0 for i in range(2)]\n",
    "speed_bajs = [0 for i in range(2)]"
   ]
  },
  {
   "cell_type": "code",
   "execution_count": 27,
   "metadata": {},
   "outputs": [],
   "source": [
    "def harkat(entrace,time_trip,speed_bajs):\n",
    "    for i in  range(2):\n",
    "        speed = random.randint(70,120)\n",
    "        speed_bajs[i] = speed\n",
    "        time = entrace / speed\n",
    "        time_trip[i] = time_trip[i] + time\n",
    "\n"
   ]
  },
  {
   "cell_type": "code",
   "execution_count": 33,
   "metadata": {},
   "outputs": [
    {
     "name": "stdout",
     "output_type": "stream",
     "text": [
      "\u001b[1m\u001b[3m\u001b[7m\u001b[92mthe bajenagh 1 arrived first to entrace 1!\u001b[0m\n",
      "\u001b[1m\u001b[3m\u001b[7m\u001b[93mbajenags arrived to entrace 1 in time: 2.62\u001b[0m\n",
      "\u001b[1m\u001b[3m\u001b[7m\u001b[91m----------------------------------------\u001b[0m\n",
      "\u001b[1m\u001b[3m\u001b[7m\u001b[92mthe bajenagh 1 arrived first to entrace 2!\u001b[0m\n",
      "\u001b[1m\u001b[3m\u001b[7m\u001b[93mbajenags arrived to entrace 2 in time: 4.93\u001b[0m\n",
      "\u001b[1m\u001b[3m\u001b[7m\u001b[91m----------------------------------------\u001b[0m\n",
      "\u001b[1m\u001b[3m\u001b[7m\u001b[92mthe bajenagh 1 arrived first to entrace 3!\u001b[0m\n",
      "\u001b[1m\u001b[3m\u001b[7m\u001b[93mbajenags arrived to entrace 3 in time: 7.36\u001b[0m\n",
      "\u001b[1m\u001b[3m\u001b[7m\u001b[91m----------------------------------------\u001b[0m\n",
      "\u001b[1m\u001b[3m\u001b[7m\u001b[92mthe bajenagh 2 arrived first to entrace 4!\u001b[0m\n",
      "\u001b[1m\u001b[3m\u001b[7m\u001b[93mbajenags arrived to entrace 4 in time: 10.11\u001b[0m\n",
      "\u001b[1m\u001b[3m\u001b[7m\u001b[91m----------------------------------------\u001b[0m\n",
      "\u001b[1m\u001b[3m\u001b[7m\u001b[92mthe bajenagh 1 arrived first to destination!\u001b[0m\n",
      "\u001b[1m\u001b[3m\u001b[7m\u001b[93mbajenags arrived to destination in time: 12.32\u001b[0m\n"
     ]
    }
   ],
   "source": [
    "if __name__ == \"__main__\":\n",
    "    for i in range(1,6):\n",
    "        thred_baj1 = threading.Thread(target=harkat,args=(entrace,time_trip,speed_bajs,))\n",
    "        thred_baj2 = threading.Thread(target=harkat,args=(entrace,time_trip,speed_bajs,))\n",
    "        thred_baj1.start()\n",
    "        thred_baj2.start()\n",
    "        thred_baj1.join()\n",
    "        thred_baj2.join()\n",
    "        time = max(time_trip[0],time_trip[1])\n",
    "        if i != 5:\n",
    "            print(fontstyle.apply(\"the bajenagh {} arrived first to entrace {}!\".format(speed_bajs.index(min(speed_bajs))+1,i),\n",
    "                                  'bold/Italic/INVERSE/green'))\n",
    "            \n",
    "            print(fontstyle.apply(\"bajenags arrived to entrace {} in time: {}\".format(i,round(time,2)),\n",
    "                                  'bold/Italic/INVERSE/yellow'))\n",
    "            print(fontstyle.apply(\"--\"*20,\n",
    "                                  'bold/Italic/INVERSE/red'))\n",
    "        else:\n",
    "            print(fontstyle.apply(\"the bajenagh {} arrived first to destination!\".format(speed_bajs.index(min(speed_bajs))+1),\n",
    "                                  'bold/Italic/INVERSE/green'))\n",
    "            print(fontstyle.apply(\"bajenags arrived to destination in time: {}\".format(round(time,2)),\n",
    "                                  'bold/Italic/INVERSE/yellow'))\n",
    "            \n",
    "            time_trip = [0 for i in range(2)]\n",
    "\n"
   ]
  },
  {
   "cell_type": "code",
   "execution_count": null,
   "metadata": {},
   "outputs": [],
   "source": []
  },
  {
   "cell_type": "code",
   "execution_count": null,
   "metadata": {},
   "outputs": [],
   "source": []
  }
 ],
 "metadata": {
  "kernelspec": {
   "display_name": "Python 3",
   "language": "python",
   "name": "python3"
  },
  "language_info": {
   "codemirror_mode": {
    "name": "ipython",
    "version": 3
   },
   "file_extension": ".py",
   "mimetype": "text/x-python",
   "name": "python",
   "nbconvert_exporter": "python",
   "pygments_lexer": "ipython3",
   "version": "3.12.3"
  }
 },
 "nbformat": 4,
 "nbformat_minor": 2
}
